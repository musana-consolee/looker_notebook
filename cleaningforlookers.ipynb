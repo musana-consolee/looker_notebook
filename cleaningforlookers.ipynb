{
 "cells": [
  {
   "cell_type": "markdown",
   "id": "6d1922fe-2aa8-4542-ae16-3a83245e9d43",
   "metadata": {},
   "source": [
    "## Government Product Sales Dataset – Initial Exploration\n",
    "In this notebook, we begin by exploring the Government Product Sales dataset (2013–2014), which includes sales information segmented by product, geography, pricing, and discounts. This initial step aims to load the dataset, inspect the first few rows, and establish familiarity with the data structure. The dataset will later be used for descriptive and visual analysis of sales trends across products and countries."
   ]
  },
  {
   "cell_type": "code",
   "execution_count": 2,
   "id": "482c7b65-849e-41a4-b223-f9c5a23b2a4e",
   "metadata": {},
   "outputs": [],
   "source": [
    "import os\n",
    "import pandas as pd\n",
    "import numpy as np \n",
    "\n",
    "# Example for Windows\n",
    "gov_df = pd.read_csv(r\"C:\\Users\\user\\Downloads\\Copy of International_Government_Product_Sales_Dataset_(2013–2014)(1).csv\" )  # Note the \"r\" before the string\n"
   ]
  },
  {
   "cell_type": "markdown",
   "id": "dec27b6b-9694-4e0e-8674-c5844d590fea",
   "metadata": {},
   "source": [
    "We display the first 10 rows of the dataset to inspect column names, data types, and any missing values. Key variables include Segment, Country, Product, Units Sold, Sale Price, COGS, Profit, and Date."
   ]
  },
  {
   "cell_type": "code",
   "execution_count": 4,
   "id": "831dfc1e-c4cb-42d1-9427-6eddc5e953de",
   "metadata": {},
   "outputs": [
    {
     "data": {
      "text/html": [
       "<div>\n",
       "<style scoped>\n",
       "    .dataframe tbody tr th:only-of-type {\n",
       "        vertical-align: middle;\n",
       "    }\n",
       "\n",
       "    .dataframe tbody tr th {\n",
       "        vertical-align: top;\n",
       "    }\n",
       "\n",
       "    .dataframe thead th {\n",
       "        text-align: right;\n",
       "    }\n",
       "</style>\n",
       "<table border=\"1\" class=\"dataframe\">\n",
       "  <thead>\n",
       "    <tr style=\"text-align: right;\">\n",
       "      <th></th>\n",
       "      <th>Segment</th>\n",
       "      <th>Country</th>\n",
       "      <th>Product</th>\n",
       "      <th>Discount Band</th>\n",
       "      <th>Units Sold</th>\n",
       "      <th>Manufacturing Price</th>\n",
       "      <th>Sale Price</th>\n",
       "      <th>Gross Sales</th>\n",
       "      <th>Discounts</th>\n",
       "      <th>Sales</th>\n",
       "      <th>COGS</th>\n",
       "      <th>Profit</th>\n",
       "      <th>Date</th>\n",
       "      <th>Month Number</th>\n",
       "      <th>Month Name</th>\n",
       "      <th>Year</th>\n",
       "    </tr>\n",
       "  </thead>\n",
       "  <tbody>\n",
       "    <tr>\n",
       "      <th>0</th>\n",
       "      <td>Government</td>\n",
       "      <td>Germany</td>\n",
       "      <td>Carretera</td>\n",
       "      <td>NaN</td>\n",
       "      <td>1513.0</td>\n",
       "      <td>3</td>\n",
       "      <td>350</td>\n",
       "      <td>529550.0</td>\n",
       "      <td>0.0</td>\n",
       "      <td>529550.0</td>\n",
       "      <td>393380.0</td>\n",
       "      <td>136170.0</td>\n",
       "      <td>1-Dec-14</td>\n",
       "      <td>12</td>\n",
       "      <td>December</td>\n",
       "      <td>2014</td>\n",
       "    </tr>\n",
       "    <tr>\n",
       "      <th>1</th>\n",
       "      <td>Government</td>\n",
       "      <td>Germany</td>\n",
       "      <td>Paseo</td>\n",
       "      <td>NaN</td>\n",
       "      <td>1006.0</td>\n",
       "      <td>10</td>\n",
       "      <td>350</td>\n",
       "      <td>352100.0</td>\n",
       "      <td>0.0</td>\n",
       "      <td>352100.0</td>\n",
       "      <td>261560.0</td>\n",
       "      <td>90540.0</td>\n",
       "      <td>1-Jun-14</td>\n",
       "      <td>6</td>\n",
       "      <td>June</td>\n",
       "      <td>2014</td>\n",
       "    </tr>\n",
       "    <tr>\n",
       "      <th>2</th>\n",
       "      <td>Government</td>\n",
       "      <td>Canada</td>\n",
       "      <td>Paseo</td>\n",
       "      <td>NaN</td>\n",
       "      <td>1725.0</td>\n",
       "      <td>10</td>\n",
       "      <td>350</td>\n",
       "      <td>603750.0</td>\n",
       "      <td>0.0</td>\n",
       "      <td>603750.0</td>\n",
       "      <td>448500.0</td>\n",
       "      <td>155250.0</td>\n",
       "      <td>1-Nov-13</td>\n",
       "      <td>11</td>\n",
       "      <td>November</td>\n",
       "      <td>2013</td>\n",
       "    </tr>\n",
       "    <tr>\n",
       "      <th>3</th>\n",
       "      <td>Government</td>\n",
       "      <td>Germany</td>\n",
       "      <td>Paseo</td>\n",
       "      <td>NaN</td>\n",
       "      <td>1513.0</td>\n",
       "      <td>10</td>\n",
       "      <td>350</td>\n",
       "      <td>529550.0</td>\n",
       "      <td>0.0</td>\n",
       "      <td>529550.0</td>\n",
       "      <td>393380.0</td>\n",
       "      <td>136170.0</td>\n",
       "      <td>1-Dec-14</td>\n",
       "      <td>12</td>\n",
       "      <td>December</td>\n",
       "      <td>2014</td>\n",
       "    </tr>\n",
       "    <tr>\n",
       "      <th>4</th>\n",
       "      <td>Government</td>\n",
       "      <td>Germany</td>\n",
       "      <td>Velo</td>\n",
       "      <td>NaN</td>\n",
       "      <td>1006.0</td>\n",
       "      <td>120</td>\n",
       "      <td>350</td>\n",
       "      <td>352100.0</td>\n",
       "      <td>0.0</td>\n",
       "      <td>352100.0</td>\n",
       "      <td>261560.0</td>\n",
       "      <td>90540.0</td>\n",
       "      <td>1-Jun-14</td>\n",
       "      <td>6</td>\n",
       "      <td>June</td>\n",
       "      <td>2014</td>\n",
       "    </tr>\n",
       "    <tr>\n",
       "      <th>5</th>\n",
       "      <td>Government</td>\n",
       "      <td>France</td>\n",
       "      <td>VTT</td>\n",
       "      <td>NaN</td>\n",
       "      <td>1527.0</td>\n",
       "      <td>250</td>\n",
       "      <td>350</td>\n",
       "      <td>534450.0</td>\n",
       "      <td>0.0</td>\n",
       "      <td>534450.0</td>\n",
       "      <td>397020.0</td>\n",
       "      <td>137430.0</td>\n",
       "      <td>1-Sep-13</td>\n",
       "      <td>9</td>\n",
       "      <td>September</td>\n",
       "      <td>2013</td>\n",
       "    </tr>\n",
       "    <tr>\n",
       "      <th>6</th>\n",
       "      <td>Government</td>\n",
       "      <td>France</td>\n",
       "      <td>Amarilla</td>\n",
       "      <td>NaN</td>\n",
       "      <td>2750.0</td>\n",
       "      <td>260</td>\n",
       "      <td>350</td>\n",
       "      <td>962500.0</td>\n",
       "      <td>0.0</td>\n",
       "      <td>962500.0</td>\n",
       "      <td>715000.0</td>\n",
       "      <td>247500.0</td>\n",
       "      <td>1-Feb-14</td>\n",
       "      <td>2</td>\n",
       "      <td>February</td>\n",
       "      <td>2014</td>\n",
       "    </tr>\n",
       "    <tr>\n",
       "      <th>7</th>\n",
       "      <td>Government</td>\n",
       "      <td>Mexico</td>\n",
       "      <td>Carretera</td>\n",
       "      <td>Low</td>\n",
       "      <td>1210.0</td>\n",
       "      <td>3</td>\n",
       "      <td>350</td>\n",
       "      <td>423500.0</td>\n",
       "      <td>4235.0</td>\n",
       "      <td>419265.0</td>\n",
       "      <td>314600.0</td>\n",
       "      <td>104665.0</td>\n",
       "      <td>1-Mar-14</td>\n",
       "      <td>3</td>\n",
       "      <td>March</td>\n",
       "      <td>2014</td>\n",
       "    </tr>\n",
       "    <tr>\n",
       "      <th>8</th>\n",
       "      <td>Government</td>\n",
       "      <td>Mexico</td>\n",
       "      <td>Carretera</td>\n",
       "      <td>Low</td>\n",
       "      <td>1397.0</td>\n",
       "      <td>3</td>\n",
       "      <td>350</td>\n",
       "      <td>488950.0</td>\n",
       "      <td>4889.5</td>\n",
       "      <td>484060.5</td>\n",
       "      <td>363220.0</td>\n",
       "      <td>120840.5</td>\n",
       "      <td>1-Oct-14</td>\n",
       "      <td>10</td>\n",
       "      <td>October</td>\n",
       "      <td>2014</td>\n",
       "    </tr>\n",
       "    <tr>\n",
       "      <th>9</th>\n",
       "      <td>Government</td>\n",
       "      <td>France</td>\n",
       "      <td>Carretera</td>\n",
       "      <td>Low</td>\n",
       "      <td>2155.0</td>\n",
       "      <td>3</td>\n",
       "      <td>350</td>\n",
       "      <td>754250.0</td>\n",
       "      <td>7542.5</td>\n",
       "      <td>746707.5</td>\n",
       "      <td>560300.0</td>\n",
       "      <td>186407.5</td>\n",
       "      <td>1-Dec-14</td>\n",
       "      <td>12</td>\n",
       "      <td>December</td>\n",
       "      <td>2014</td>\n",
       "    </tr>\n",
       "  </tbody>\n",
       "</table>\n",
       "</div>"
      ],
      "text/plain": [
       "      Segment  Country    Product Discount Band  Units Sold  \\\n",
       "0  Government  Germany  Carretera           NaN      1513.0   \n",
       "1  Government  Germany      Paseo           NaN      1006.0   \n",
       "2  Government   Canada      Paseo           NaN      1725.0   \n",
       "3  Government  Germany      Paseo           NaN      1513.0   \n",
       "4  Government  Germany       Velo           NaN      1006.0   \n",
       "5  Government   France        VTT           NaN      1527.0   \n",
       "6  Government   France   Amarilla           NaN      2750.0   \n",
       "7  Government   Mexico  Carretera           Low      1210.0   \n",
       "8  Government   Mexico  Carretera           Low      1397.0   \n",
       "9  Government   France  Carretera           Low      2155.0   \n",
       "\n",
       "   Manufacturing Price  Sale Price  Gross Sales  Discounts     Sales  \\\n",
       "0                    3         350     529550.0        0.0  529550.0   \n",
       "1                   10         350     352100.0        0.0  352100.0   \n",
       "2                   10         350     603750.0        0.0  603750.0   \n",
       "3                   10         350     529550.0        0.0  529550.0   \n",
       "4                  120         350     352100.0        0.0  352100.0   \n",
       "5                  250         350     534450.0        0.0  534450.0   \n",
       "6                  260         350     962500.0        0.0  962500.0   \n",
       "7                    3         350     423500.0     4235.0  419265.0   \n",
       "8                    3         350     488950.0     4889.5  484060.5   \n",
       "9                    3         350     754250.0     7542.5  746707.5   \n",
       "\n",
       "       COGS    Profit      Date  Month Number Month Name  Year  \n",
       "0  393380.0  136170.0  1-Dec-14            12   December  2014  \n",
       "1  261560.0   90540.0  1-Jun-14             6       June  2014  \n",
       "2  448500.0  155250.0  1-Nov-13            11   November  2013  \n",
       "3  393380.0  136170.0  1-Dec-14            12   December  2014  \n",
       "4  261560.0   90540.0  1-Jun-14             6       June  2014  \n",
       "5  397020.0  137430.0  1-Sep-13             9  September  2013  \n",
       "6  715000.0  247500.0  1-Feb-14             2   February  2014  \n",
       "7  314600.0  104665.0  1-Mar-14             3      March  2014  \n",
       "8  363220.0  120840.5  1-Oct-14            10    October  2014  \n",
       "9  560300.0  186407.5  1-Dec-14            12   December  2014  "
      ]
     },
     "execution_count": 4,
     "metadata": {},
     "output_type": "execute_result"
    }
   ],
   "source": [
    "\n",
    "gov_df.head(10)"
   ]
  },
  {
   "cell_type": "markdown",
   "id": "46f5c071-9172-42a0-ac52-ba829473de65",
   "metadata": {},
   "source": [
    "## Dataset Dimensions – Rows and Columns\n",
    "To understand the overall size of the dataset, we use the .shape attribute. This is an essential first step in exploratory data analysis, as it tells us how many observations (rows) and features (columns) we are working with. Knowing the dataset’s dimensions helps us plan data cleaning, transformation, and visualization strategies appropriately."
   ]
  },
  {
   "cell_type": "code",
   "execution_count": 6,
   "id": "47f069dd-4a03-465d-a34d-70705e2d0b38",
   "metadata": {
    "jupyter": {
     "source_hidden": true
    }
   },
   "outputs": [
    {
     "data": {
      "text/plain": [
       "(700, 16)"
      ]
     },
     "execution_count": 6,
     "metadata": {},
     "output_type": "execute_result"
    }
   ],
   "source": [
    "gov_df.shape"
   ]
  },
  {
   "cell_type": "markdown",
   "id": "c6918ca9-6063-4a69-b091-bacc86b9bee5",
   "metadata": {},
   "source": [
    "The dataset contains 700 rows and 16 columns.\n",
    "\n",
    "Each row likely represents a unique record of a government product sale (e.g., by country, product, or date).\n",
    "\n",
    "The 16 columns include key attributes such as product information, financial metrics (e.g., sale price, profit), and time indicators."
   ]
  },
  {
   "cell_type": "code",
   "execution_count": 8,
   "id": "2791833d-d8f2-4c05-a298-b9aa852027a1",
   "metadata": {},
   "outputs": [
    {
     "name": "stdout",
     "output_type": "stream",
     "text": [
      "<class 'pandas.core.frame.DataFrame'>\n",
      "RangeIndex: 700 entries, 0 to 699\n",
      "Data columns (total 16 columns):\n",
      " #   Column               Non-Null Count  Dtype  \n",
      "---  ------               --------------  -----  \n",
      " 0   Segment              700 non-null    object \n",
      " 1   Country              700 non-null    object \n",
      " 2   Product              700 non-null    object \n",
      " 3   Discount Band        647 non-null    object \n",
      " 4   Units Sold           700 non-null    float64\n",
      " 5   Manufacturing Price  700 non-null    int64  \n",
      " 6   Sale Price           700 non-null    int64  \n",
      " 7   Gross Sales          700 non-null    float64\n",
      " 8   Discounts            700 non-null    float64\n",
      " 9    Sales               700 non-null    float64\n",
      " 10  COGS                 700 non-null    float64\n",
      " 11  Profit               700 non-null    float64\n",
      " 12  Date                 700 non-null    object \n",
      " 13  Month Number         700 non-null    int64  \n",
      " 14  Month Name           700 non-null    object \n",
      " 15  Year                 700 non-null    int64  \n",
      "dtypes: float64(6), int64(4), object(6)\n",
      "memory usage: 87.6+ KB\n"
     ]
    }
   ],
   "source": [
    "gov_df.info()"
   ]
  },
  {
   "cell_type": "code",
   "execution_count": 9,
   "id": "cf2e34af-e149-4bd6-a78c-38ec7c5a26b8",
   "metadata": {},
   "outputs": [
    {
     "data": {
      "text/html": [
       "<div>\n",
       "<style scoped>\n",
       "    .dataframe tbody tr th:only-of-type {\n",
       "        vertical-align: middle;\n",
       "    }\n",
       "\n",
       "    .dataframe tbody tr th {\n",
       "        vertical-align: top;\n",
       "    }\n",
       "\n",
       "    .dataframe thead th {\n",
       "        text-align: right;\n",
       "    }\n",
       "</style>\n",
       "<table border=\"1\" class=\"dataframe\">\n",
       "  <thead>\n",
       "    <tr style=\"text-align: right;\">\n",
       "      <th></th>\n",
       "      <th>Units Sold</th>\n",
       "      <th>Manufacturing Price</th>\n",
       "      <th>Sale Price</th>\n",
       "      <th>Gross Sales</th>\n",
       "      <th>Discounts</th>\n",
       "      <th>Sales</th>\n",
       "      <th>COGS</th>\n",
       "      <th>Profit</th>\n",
       "      <th>Month Number</th>\n",
       "      <th>Year</th>\n",
       "    </tr>\n",
       "  </thead>\n",
       "  <tbody>\n",
       "    <tr>\n",
       "      <th>count</th>\n",
       "      <td>700.000000</td>\n",
       "      <td>700.000000</td>\n",
       "      <td>700.000000</td>\n",
       "      <td>7.000000e+02</td>\n",
       "      <td>700.000000</td>\n",
       "      <td>7.000000e+02</td>\n",
       "      <td>700.000000</td>\n",
       "      <td>700.000000</td>\n",
       "      <td>700.000000</td>\n",
       "      <td>700.000000</td>\n",
       "    </tr>\n",
       "    <tr>\n",
       "      <th>mean</th>\n",
       "      <td>1608.294286</td>\n",
       "      <td>96.477143</td>\n",
       "      <td>118.428571</td>\n",
       "      <td>1.827594e+05</td>\n",
       "      <td>13150.354629</td>\n",
       "      <td>1.696091e+05</td>\n",
       "      <td>145475.211429</td>\n",
       "      <td>24133.860371</td>\n",
       "      <td>7.900000</td>\n",
       "      <td>2013.750000</td>\n",
       "    </tr>\n",
       "    <tr>\n",
       "      <th>std</th>\n",
       "      <td>867.427859</td>\n",
       "      <td>108.602612</td>\n",
       "      <td>136.775515</td>\n",
       "      <td>2.542623e+05</td>\n",
       "      <td>22962.928775</td>\n",
       "      <td>2.367263e+05</td>\n",
       "      <td>203865.506118</td>\n",
       "      <td>42760.626563</td>\n",
       "      <td>3.377321</td>\n",
       "      <td>0.433322</td>\n",
       "    </tr>\n",
       "    <tr>\n",
       "      <th>min</th>\n",
       "      <td>200.000000</td>\n",
       "      <td>3.000000</td>\n",
       "      <td>7.000000</td>\n",
       "      <td>1.799000e+03</td>\n",
       "      <td>0.000000</td>\n",
       "      <td>1.655080e+03</td>\n",
       "      <td>918.000000</td>\n",
       "      <td>-40617.500000</td>\n",
       "      <td>1.000000</td>\n",
       "      <td>2013.000000</td>\n",
       "    </tr>\n",
       "    <tr>\n",
       "      <th>25%</th>\n",
       "      <td>905.000000</td>\n",
       "      <td>5.000000</td>\n",
       "      <td>12.000000</td>\n",
       "      <td>1.739175e+04</td>\n",
       "      <td>800.320000</td>\n",
       "      <td>1.592800e+04</td>\n",
       "      <td>7490.000000</td>\n",
       "      <td>2805.960000</td>\n",
       "      <td>5.750000</td>\n",
       "      <td>2013.750000</td>\n",
       "    </tr>\n",
       "    <tr>\n",
       "      <th>50%</th>\n",
       "      <td>1542.500000</td>\n",
       "      <td>10.000000</td>\n",
       "      <td>20.000000</td>\n",
       "      <td>3.798000e+04</td>\n",
       "      <td>2585.250000</td>\n",
       "      <td>3.554020e+04</td>\n",
       "      <td>22506.250000</td>\n",
       "      <td>9242.200000</td>\n",
       "      <td>9.000000</td>\n",
       "      <td>2014.000000</td>\n",
       "    </tr>\n",
       "    <tr>\n",
       "      <th>75%</th>\n",
       "      <td>2229.125000</td>\n",
       "      <td>250.000000</td>\n",
       "      <td>300.000000</td>\n",
       "      <td>2.790250e+05</td>\n",
       "      <td>15956.343750</td>\n",
       "      <td>2.610775e+05</td>\n",
       "      <td>245607.500000</td>\n",
       "      <td>22662.000000</td>\n",
       "      <td>10.250000</td>\n",
       "      <td>2014.000000</td>\n",
       "    </tr>\n",
       "    <tr>\n",
       "      <th>max</th>\n",
       "      <td>4492.500000</td>\n",
       "      <td>260.000000</td>\n",
       "      <td>350.000000</td>\n",
       "      <td>1.207500e+06</td>\n",
       "      <td>149677.500000</td>\n",
       "      <td>1.159200e+06</td>\n",
       "      <td>950625.000000</td>\n",
       "      <td>262200.000000</td>\n",
       "      <td>12.000000</td>\n",
       "      <td>2014.000000</td>\n",
       "    </tr>\n",
       "  </tbody>\n",
       "</table>\n",
       "</div>"
      ],
      "text/plain": [
       "        Units Sold  Manufacturing Price  Sale Price   Gross Sales  \\\n",
       "count   700.000000           700.000000  700.000000  7.000000e+02   \n",
       "mean   1608.294286            96.477143  118.428571  1.827594e+05   \n",
       "std     867.427859           108.602612  136.775515  2.542623e+05   \n",
       "min     200.000000             3.000000    7.000000  1.799000e+03   \n",
       "25%     905.000000             5.000000   12.000000  1.739175e+04   \n",
       "50%    1542.500000            10.000000   20.000000  3.798000e+04   \n",
       "75%    2229.125000           250.000000  300.000000  2.790250e+05   \n",
       "max    4492.500000           260.000000  350.000000  1.207500e+06   \n",
       "\n",
       "           Discounts         Sales           COGS         Profit  \\\n",
       "count     700.000000  7.000000e+02     700.000000     700.000000   \n",
       "mean    13150.354629  1.696091e+05  145475.211429   24133.860371   \n",
       "std     22962.928775  2.367263e+05  203865.506118   42760.626563   \n",
       "min         0.000000  1.655080e+03     918.000000  -40617.500000   \n",
       "25%       800.320000  1.592800e+04    7490.000000    2805.960000   \n",
       "50%      2585.250000  3.554020e+04   22506.250000    9242.200000   \n",
       "75%     15956.343750  2.610775e+05  245607.500000   22662.000000   \n",
       "max    149677.500000  1.159200e+06  950625.000000  262200.000000   \n",
       "\n",
       "       Month Number         Year  \n",
       "count    700.000000   700.000000  \n",
       "mean       7.900000  2013.750000  \n",
       "std        3.377321     0.433322  \n",
       "min        1.000000  2013.000000  \n",
       "25%        5.750000  2013.750000  \n",
       "50%        9.000000  2014.000000  \n",
       "75%       10.250000  2014.000000  \n",
       "max       12.000000  2014.000000  "
      ]
     },
     "execution_count": 9,
     "metadata": {},
     "output_type": "execute_result"
    }
   ],
   "source": [
    "gov_df.describe()"
   ]
  },
  {
   "cell_type": "markdown",
   "id": "1dacefe3-b420-42dd-b90c-f288dc552fd7",
   "metadata": {},
   "source": [
    "## Column Names – Understanding Dataset Structure\n",
    "To better understand the content and structure of our dataset, we examine its column names using the **.columns** attribute. This reveals what types of variables we’re working with — including identifiers, product and financial details, and temporal information."
   ]
  },
  {
   "cell_type": "code",
   "execution_count": 11,
   "id": "3fd74eef-78c3-4d87-8083-20a985f1bafd",
   "metadata": {
    "scrolled": true
   },
   "outputs": [
    {
     "data": {
      "text/plain": [
       "Index(['Segment', 'Country', 'Product', 'Discount Band', 'Units Sold',\n",
       "       'Manufacturing Price', 'Sale Price', 'Gross Sales', 'Discounts',\n",
       "       ' Sales', 'COGS', 'Profit', 'Date', 'Month Number', 'Month Name',\n",
       "       'Year'],\n",
       "      dtype='object')"
      ]
     },
     "execution_count": 11,
     "metadata": {},
     "output_type": "execute_result"
    }
   ],
   "source": [
    "gov_df.columns"
   ]
  },
  {
   "cell_type": "code",
   "execution_count": 12,
   "id": "13739768-10dd-4817-809f-048a491ae981",
   "metadata": {},
   "outputs": [
    {
     "data": {
      "text/plain": [
       "array(['Channel Partners', 'Enterprise', 'Government', 'Midmarket',\n",
       "       'Small Business'], dtype='<U16')"
      ]
     },
     "execution_count": 12,
     "metadata": {},
     "output_type": "execute_result"
    }
   ],
   "source": [
    "np.unique(gov_df.Segment.to_list())"
   ]
  },
  {
   "cell_type": "code",
   "execution_count": 13,
   "id": "61ab6f5c-f229-432e-805e-3e339297743e",
   "metadata": {},
   "outputs": [
    {
     "data": {
      "text/plain": [
       "array(['Canada', 'France', 'Germany', 'Mexico',\n",
       "       'United States of America'], dtype='<U24')"
      ]
     },
     "execution_count": 13,
     "metadata": {},
     "output_type": "execute_result"
    }
   ],
   "source": [
    "np.unique(gov_df.Country.to_list())"
   ]
  },
  {
   "cell_type": "code",
   "execution_count": 14,
   "id": "365e5753-2c82-4d66-b577-d2310b6da89d",
   "metadata": {},
   "outputs": [
    {
     "data": {
      "text/plain": [
       "array(['Amarilla', 'Carretera', 'Montana', 'Paseo', 'VTT', 'Velo'],\n",
       "      dtype='<U9')"
      ]
     },
     "execution_count": 14,
     "metadata": {},
     "output_type": "execute_result"
    }
   ],
   "source": [
    "np.unique(gov_df.Product.to_list())"
   ]
  },
  {
   "cell_type": "code",
   "execution_count": 15,
   "id": "f3cef697-00e1-4b35-bca5-720f8047cd57",
   "metadata": {},
   "outputs": [
    {
     "data": {
      "text/plain": [
       "array(['High', 'Low', 'Medium', 'nan'], dtype='<U32')"
      ]
     },
     "execution_count": 15,
     "metadata": {},
     "output_type": "execute_result"
    }
   ],
   "source": [
    "np.unique(gov_df['Discount Band'].to_list())"
   ]
  },
  {
   "cell_type": "markdown",
   "id": "861694a1-1e3f-42d8-b925-73d10451db9e",
   "metadata": {},
   "source": [
    "## Checking for Missing Values\n",
    "Before proceeding with analysis, it’s crucial to identify any missing data. This helps determine whether imputation, exclusion, or transformation is needed. Using .isnull().sum() allows us to detect how many null (NaN) values exist in each column of the dataset."
   ]
  },
  {
   "cell_type": "code",
   "execution_count": 17,
   "id": "8b3eb715-0dce-4769-8549-5dc005d77234",
   "metadata": {},
   "outputs": [
    {
     "data": {
      "text/plain": [
       "Segment                 0\n",
       "Country                 0\n",
       "Product                 0\n",
       "Discount Band          53\n",
       "Units Sold              0\n",
       "Manufacturing Price     0\n",
       "Sale Price              0\n",
       "Gross Sales             0\n",
       "Discounts               0\n",
       " Sales                  0\n",
       "COGS                    0\n",
       "Profit                  0\n",
       "Date                    0\n",
       "Month Number            0\n",
       "Month Name              0\n",
       "Year                    0\n",
       "dtype: int64"
      ]
     },
     "execution_count": 17,
     "metadata": {},
     "output_type": "execute_result"
    }
   ],
   "source": [
    "gov_df.isnull().sum()"
   ]
  },
  {
   "cell_type": "markdown",
   "id": "8606eebc-9aad-471d-862b-9f66ed8cd269",
   "metadata": {},
   "source": [
    "All **columns** except Discount Band are fully complete, meaning they have zero missing values.\n",
    "\n",
    "The Discount Band column has 53 missing values, which accounts for about 7.6% of the total dataset (53 out of 700)."
   ]
  },
  {
   "cell_type": "markdown",
   "id": "5cf46545-cd1d-45e6-82a2-3d11b30891d2",
   "metadata": {},
   "source": [
    "## Handling Missing Values in the Discount Band Column\n",
    "After identifying missing values in the Discount Band column, we now resolve this issue to ensure smooth analysis. Rather than dropping rows or estimating values, we use a simple yet effective strategy: filling all missing entries with the placeholder 'Unknown'. This preserves data integrity while clearly marking unclassified discount bands.\n",
    "\n",
    "We then re-check for any remaining missing values in the dataset."
   ]
  },
  {
   "cell_type": "code",
   "execution_count": 20,
   "id": "1f42b0b1-8001-4663-a210-328696aaa5e7",
   "metadata": {},
   "outputs": [],
   "source": [
    "gov_df['Discount Band'] = gov_df['Discount Band'].fillna('Unknown')"
   ]
  },
  {
   "cell_type": "code",
   "execution_count": 21,
   "id": "20f50dd2-3cee-4c1a-8135-cb7d4948b595",
   "metadata": {
    "scrolled": true
   },
   "outputs": [
    {
     "data": {
      "text/plain": [
       "Segment                0\n",
       "Country                0\n",
       "Product                0\n",
       "Discount Band          0\n",
       "Units Sold             0\n",
       "Manufacturing Price    0\n",
       "Sale Price             0\n",
       "Gross Sales            0\n",
       "Discounts              0\n",
       " Sales                 0\n",
       "COGS                   0\n",
       "Profit                 0\n",
       "Date                   0\n",
       "Month Number           0\n",
       "Month Name             0\n",
       "Year                   0\n",
       "dtype: int64"
      ]
     },
     "execution_count": 21,
     "metadata": {},
     "output_type": "execute_result"
    }
   ],
   "source": [
    "gov_df.isnull().sum()"
   ]
  },
  {
   "cell_type": "markdown",
   "id": "86e2de91-6a4e-46e5-8afd-91c87edf291a",
   "metadata": {},
   "source": [
    "The Discount Band column is now fully populated — all 53 previously missing values have been replaced with the label 'Unknown'.\n",
    "\n",
    "The dataset is now completely free of null values across all 16 columns."
   ]
  },
  {
   "cell_type": "markdown",
   "id": "8b0674eb-b66f-4821-99c1-cde739d8f4a2",
   "metadata": {},
   "source": [
    "Checking for Duplicate Records\n",
    "An important part of data cleaning is verifying that there are no duplicate rows, which can distort statistics and visualizations. Using **.duplicated().sum()**, we check how many rows in the dataset are exact copies of others.\n"
   ]
  },
  {
   "cell_type": "code",
   "execution_count": 24,
   "id": "e12403e2-95de-4579-8885-11cb96041bae",
   "metadata": {},
   "outputs": [
    {
     "data": {
      "text/plain": [
       "0"
      ]
     },
     "execution_count": 24,
     "metadata": {},
     "output_type": "execute_result"
    }
   ],
   "source": [
    "gov_df.duplicated().sum()"
   ]
  },
  {
   "cell_type": "markdown",
   "id": "f9e90bf3-fdb7-415c-9444-d8f3e4f742a2",
   "metadata": {},
   "source": [
    "The dataset contains zero duplicated rows, meaning each record is unique.\n",
    "\n",
    "This indicates that the data source is reliable and hasn’t introduced repeated entries during collection or consolidation."
   ]
  },
  {
   "cell_type": "code",
   "execution_count": 26,
   "id": "ddb2947a-b112-4c1f-b3e7-08b6be0b655d",
   "metadata": {},
   "outputs": [
    {
     "data": {
      "text/plain": [
       "(700, 16)"
      ]
     },
     "execution_count": 26,
     "metadata": {},
     "output_type": "execute_result"
    }
   ],
   "source": [
    "gov_df.shape"
   ]
  },
  {
   "cell_type": "code",
   "execution_count": 27,
   "id": "81bbc88c-601b-46cf-9560-9064ca9a46c4",
   "metadata": {},
   "outputs": [
    {
     "data": {
      "text/plain": [
       "Index(['Segment', 'Country', 'Product', 'Discount Band', 'Units Sold',\n",
       "       'Manufacturing Price', 'Sale Price', 'Gross Sales', 'Discounts',\n",
       "       ' Sales', 'COGS', 'Profit', 'Date', 'Month Number', 'Month Name',\n",
       "       'Year'],\n",
       "      dtype='object')"
      ]
     },
     "execution_count": 27,
     "metadata": {},
     "output_type": "execute_result"
    }
   ],
   "source": [
    "gov_df.columns"
   ]
  },
  {
   "cell_type": "code",
   "execution_count": 28,
   "id": "a10c91f2-8718-4c53-bf6c-c63b9ce0f696",
   "metadata": {},
   "outputs": [],
   "source": [
    "categorical_cols = gov_df.columns[gov_df.dtypes == object]\n",
    "for col in categorical_cols:\n",
    "    gov_df.loc[:, col] = gov_df[col].str.strip().str.lower()"
   ]
  },
  {
   "cell_type": "code",
   "execution_count": 29,
   "id": "5506160c-8a7e-44a0-854a-ecc380d5eb83",
   "metadata": {},
   "outputs": [
    {
     "data": {
      "text/html": [
       "<div>\n",
       "<style scoped>\n",
       "    .dataframe tbody tr th:only-of-type {\n",
       "        vertical-align: middle;\n",
       "    }\n",
       "\n",
       "    .dataframe tbody tr th {\n",
       "        vertical-align: top;\n",
       "    }\n",
       "\n",
       "    .dataframe thead th {\n",
       "        text-align: right;\n",
       "    }\n",
       "</style>\n",
       "<table border=\"1\" class=\"dataframe\">\n",
       "  <thead>\n",
       "    <tr style=\"text-align: right;\">\n",
       "      <th></th>\n",
       "      <th>Segment</th>\n",
       "      <th>Country</th>\n",
       "      <th>Product</th>\n",
       "      <th>Discount Band</th>\n",
       "      <th>Units Sold</th>\n",
       "      <th>Manufacturing Price</th>\n",
       "      <th>Sale Price</th>\n",
       "      <th>Gross Sales</th>\n",
       "      <th>Discounts</th>\n",
       "      <th>Sales</th>\n",
       "      <th>COGS</th>\n",
       "      <th>Profit</th>\n",
       "      <th>Date</th>\n",
       "      <th>Month Number</th>\n",
       "      <th>Month Name</th>\n",
       "      <th>Year</th>\n",
       "    </tr>\n",
       "  </thead>\n",
       "  <tbody>\n",
       "    <tr>\n",
       "      <th>0</th>\n",
       "      <td>government</td>\n",
       "      <td>germany</td>\n",
       "      <td>carretera</td>\n",
       "      <td>unknown</td>\n",
       "      <td>1513.0</td>\n",
       "      <td>3</td>\n",
       "      <td>350</td>\n",
       "      <td>529550.0</td>\n",
       "      <td>0.00</td>\n",
       "      <td>529550.00</td>\n",
       "      <td>393380.0</td>\n",
       "      <td>136170.00</td>\n",
       "      <td>1-dec-14</td>\n",
       "      <td>12</td>\n",
       "      <td>december</td>\n",
       "      <td>2014</td>\n",
       "    </tr>\n",
       "    <tr>\n",
       "      <th>1</th>\n",
       "      <td>government</td>\n",
       "      <td>germany</td>\n",
       "      <td>paseo</td>\n",
       "      <td>unknown</td>\n",
       "      <td>1006.0</td>\n",
       "      <td>10</td>\n",
       "      <td>350</td>\n",
       "      <td>352100.0</td>\n",
       "      <td>0.00</td>\n",
       "      <td>352100.00</td>\n",
       "      <td>261560.0</td>\n",
       "      <td>90540.00</td>\n",
       "      <td>1-jun-14</td>\n",
       "      <td>6</td>\n",
       "      <td>june</td>\n",
       "      <td>2014</td>\n",
       "    </tr>\n",
       "    <tr>\n",
       "      <th>2</th>\n",
       "      <td>government</td>\n",
       "      <td>canada</td>\n",
       "      <td>paseo</td>\n",
       "      <td>unknown</td>\n",
       "      <td>1725.0</td>\n",
       "      <td>10</td>\n",
       "      <td>350</td>\n",
       "      <td>603750.0</td>\n",
       "      <td>0.00</td>\n",
       "      <td>603750.00</td>\n",
       "      <td>448500.0</td>\n",
       "      <td>155250.00</td>\n",
       "      <td>1-nov-13</td>\n",
       "      <td>11</td>\n",
       "      <td>november</td>\n",
       "      <td>2013</td>\n",
       "    </tr>\n",
       "    <tr>\n",
       "      <th>3</th>\n",
       "      <td>government</td>\n",
       "      <td>germany</td>\n",
       "      <td>paseo</td>\n",
       "      <td>unknown</td>\n",
       "      <td>1513.0</td>\n",
       "      <td>10</td>\n",
       "      <td>350</td>\n",
       "      <td>529550.0</td>\n",
       "      <td>0.00</td>\n",
       "      <td>529550.00</td>\n",
       "      <td>393380.0</td>\n",
       "      <td>136170.00</td>\n",
       "      <td>1-dec-14</td>\n",
       "      <td>12</td>\n",
       "      <td>december</td>\n",
       "      <td>2014</td>\n",
       "    </tr>\n",
       "    <tr>\n",
       "      <th>4</th>\n",
       "      <td>government</td>\n",
       "      <td>germany</td>\n",
       "      <td>velo</td>\n",
       "      <td>unknown</td>\n",
       "      <td>1006.0</td>\n",
       "      <td>120</td>\n",
       "      <td>350</td>\n",
       "      <td>352100.0</td>\n",
       "      <td>0.00</td>\n",
       "      <td>352100.00</td>\n",
       "      <td>261560.0</td>\n",
       "      <td>90540.00</td>\n",
       "      <td>1-jun-14</td>\n",
       "      <td>6</td>\n",
       "      <td>june</td>\n",
       "      <td>2014</td>\n",
       "    </tr>\n",
       "    <tr>\n",
       "      <th>...</th>\n",
       "      <td>...</td>\n",
       "      <td>...</td>\n",
       "      <td>...</td>\n",
       "      <td>...</td>\n",
       "      <td>...</td>\n",
       "      <td>...</td>\n",
       "      <td>...</td>\n",
       "      <td>...</td>\n",
       "      <td>...</td>\n",
       "      <td>...</td>\n",
       "      <td>...</td>\n",
       "      <td>...</td>\n",
       "      <td>...</td>\n",
       "      <td>...</td>\n",
       "      <td>...</td>\n",
       "      <td>...</td>\n",
       "    </tr>\n",
       "    <tr>\n",
       "      <th>695</th>\n",
       "      <td>midmarket</td>\n",
       "      <td>canada</td>\n",
       "      <td>paseo</td>\n",
       "      <td>high</td>\n",
       "      <td>1614.0</td>\n",
       "      <td>10</td>\n",
       "      <td>15</td>\n",
       "      <td>24210.0</td>\n",
       "      <td>3631.50</td>\n",
       "      <td>20578.50</td>\n",
       "      <td>16140.0</td>\n",
       "      <td>4438.50</td>\n",
       "      <td>1-apr-14</td>\n",
       "      <td>4</td>\n",
       "      <td>april</td>\n",
       "      <td>2014</td>\n",
       "    </tr>\n",
       "    <tr>\n",
       "      <th>696</th>\n",
       "      <td>midmarket</td>\n",
       "      <td>canada</td>\n",
       "      <td>paseo</td>\n",
       "      <td>high</td>\n",
       "      <td>2559.0</td>\n",
       "      <td>10</td>\n",
       "      <td>15</td>\n",
       "      <td>38385.0</td>\n",
       "      <td>5757.75</td>\n",
       "      <td>32627.25</td>\n",
       "      <td>25590.0</td>\n",
       "      <td>7037.25</td>\n",
       "      <td>1-aug-14</td>\n",
       "      <td>8</td>\n",
       "      <td>august</td>\n",
       "      <td>2014</td>\n",
       "    </tr>\n",
       "    <tr>\n",
       "      <th>697</th>\n",
       "      <td>enterprise</td>\n",
       "      <td>germany</td>\n",
       "      <td>paseo</td>\n",
       "      <td>high</td>\n",
       "      <td>1085.0</td>\n",
       "      <td>10</td>\n",
       "      <td>125</td>\n",
       "      <td>135625.0</td>\n",
       "      <td>20343.75</td>\n",
       "      <td>115281.25</td>\n",
       "      <td>130200.0</td>\n",
       "      <td>-14918.75</td>\n",
       "      <td>1-oct-14</td>\n",
       "      <td>10</td>\n",
       "      <td>october</td>\n",
       "      <td>2014</td>\n",
       "    </tr>\n",
       "    <tr>\n",
       "      <th>698</th>\n",
       "      <td>midmarket</td>\n",
       "      <td>germany</td>\n",
       "      <td>paseo</td>\n",
       "      <td>high</td>\n",
       "      <td>1175.0</td>\n",
       "      <td>10</td>\n",
       "      <td>15</td>\n",
       "      <td>17625.0</td>\n",
       "      <td>2643.75</td>\n",
       "      <td>14981.25</td>\n",
       "      <td>11750.0</td>\n",
       "      <td>3231.25</td>\n",
       "      <td>1-oct-14</td>\n",
       "      <td>10</td>\n",
       "      <td>october</td>\n",
       "      <td>2014</td>\n",
       "    </tr>\n",
       "    <tr>\n",
       "      <th>699</th>\n",
       "      <td>channel partners</td>\n",
       "      <td>united states of america</td>\n",
       "      <td>paseo</td>\n",
       "      <td>high</td>\n",
       "      <td>914.0</td>\n",
       "      <td>10</td>\n",
       "      <td>12</td>\n",
       "      <td>10968.0</td>\n",
       "      <td>1645.20</td>\n",
       "      <td>9322.80</td>\n",
       "      <td>2742.0</td>\n",
       "      <td>6580.80</td>\n",
       "      <td>1-dec-14</td>\n",
       "      <td>12</td>\n",
       "      <td>december</td>\n",
       "      <td>2014</td>\n",
       "    </tr>\n",
       "  </tbody>\n",
       "</table>\n",
       "<p>700 rows × 16 columns</p>\n",
       "</div>"
      ],
      "text/plain": [
       "              Segment                   Country    Product Discount Band  \\\n",
       "0          government                   germany  carretera       unknown   \n",
       "1          government                   germany      paseo       unknown   \n",
       "2          government                    canada      paseo       unknown   \n",
       "3          government                   germany      paseo       unknown   \n",
       "4          government                   germany       velo       unknown   \n",
       "..                ...                       ...        ...           ...   \n",
       "695         midmarket                    canada      paseo          high   \n",
       "696         midmarket                    canada      paseo          high   \n",
       "697        enterprise                   germany      paseo          high   \n",
       "698         midmarket                   germany      paseo          high   \n",
       "699  channel partners  united states of america      paseo          high   \n",
       "\n",
       "     Units Sold  Manufacturing Price  Sale Price  Gross Sales  Discounts  \\\n",
       "0        1513.0                    3         350     529550.0       0.00   \n",
       "1        1006.0                   10         350     352100.0       0.00   \n",
       "2        1725.0                   10         350     603750.0       0.00   \n",
       "3        1513.0                   10         350     529550.0       0.00   \n",
       "4        1006.0                  120         350     352100.0       0.00   \n",
       "..          ...                  ...         ...          ...        ...   \n",
       "695      1614.0                   10          15      24210.0    3631.50   \n",
       "696      2559.0                   10          15      38385.0    5757.75   \n",
       "697      1085.0                   10         125     135625.0   20343.75   \n",
       "698      1175.0                   10          15      17625.0    2643.75   \n",
       "699       914.0                   10          12      10968.0    1645.20   \n",
       "\n",
       "         Sales      COGS     Profit      Date  Month Number Month Name  Year  \n",
       "0    529550.00  393380.0  136170.00  1-dec-14            12   december  2014  \n",
       "1    352100.00  261560.0   90540.00  1-jun-14             6       june  2014  \n",
       "2    603750.00  448500.0  155250.00  1-nov-13            11   november  2013  \n",
       "3    529550.00  393380.0  136170.00  1-dec-14            12   december  2014  \n",
       "4    352100.00  261560.0   90540.00  1-jun-14             6       june  2014  \n",
       "..         ...       ...        ...       ...           ...        ...   ...  \n",
       "695   20578.50   16140.0    4438.50  1-apr-14             4      april  2014  \n",
       "696   32627.25   25590.0    7037.25  1-aug-14             8     august  2014  \n",
       "697  115281.25  130200.0  -14918.75  1-oct-14            10    october  2014  \n",
       "698   14981.25   11750.0    3231.25  1-oct-14            10    october  2014  \n",
       "699    9322.80    2742.0    6580.80  1-dec-14            12   december  2014  \n",
       "\n",
       "[700 rows x 16 columns]"
      ]
     },
     "execution_count": 29,
     "metadata": {},
     "output_type": "execute_result"
    }
   ],
   "source": [
    "gov_df"
   ]
  },
  {
   "cell_type": "code",
   "execution_count": 30,
   "id": "2f4c4ed1-99c4-494e-86c1-a4c4be1a89d9",
   "metadata": {},
   "outputs": [
    {
     "data": {
      "text/plain": [
       "Segment                0\n",
       "Country                0\n",
       "Product                0\n",
       "Discount Band          0\n",
       "Units Sold             0\n",
       "Manufacturing Price    0\n",
       "Sale Price             0\n",
       "Gross Sales            0\n",
       "Discounts              0\n",
       " Sales                 0\n",
       "COGS                   0\n",
       "Profit                 0\n",
       "Date                   0\n",
       "Month Number           0\n",
       "Month Name             0\n",
       "Year                   0\n",
       "dtype: int64"
      ]
     },
     "execution_count": 30,
     "metadata": {},
     "output_type": "execute_result"
    }
   ],
   "source": [
    "gov_df.isnull().sum()"
   ]
  },
  {
   "cell_type": "code",
   "execution_count": 31,
   "id": "d19905e0-85c0-4f32-806a-9f65443b19fb",
   "metadata": {},
   "outputs": [
    {
     "data": {
      "text/plain": [
       "(700, 16)"
      ]
     },
     "execution_count": 31,
     "metadata": {},
     "output_type": "execute_result"
    }
   ],
   "source": [
    "gov_df.shape"
   ]
  },
  {
   "cell_type": "code",
   "execution_count": 32,
   "id": "1155f51c-cb3c-47cc-83d3-b970c40141ad",
   "metadata": {},
   "outputs": [],
   "source": [
    "#gov_df.to_csv(\"C:/Users/user/Desktop/tekher/looker studio/CSV/gov_cleaned.csv\", index=False)"
   ]
  },
  {
   "cell_type": "code",
   "execution_count": 33,
   "id": "bef34286-4dce-4031-8de3-3417c24ff8b4",
   "metadata": {},
   "outputs": [],
   "source": [
    "##gov_df1 = pd.read_csv(r\"C:\\Users\\user\\Desktop\\tekher\\looker studio\\CSV\\gov_cleaned.csv\")\n",
    "##gov_df1"
   ]
  },
  {
   "cell_type": "code",
   "execution_count": 35,
   "id": "33791a6e-6ef4-40f6-be11-b243c7e673b6",
   "metadata": {},
   "outputs": [
    {
     "data": {
      "text/html": [
       "<div>\n",
       "<style scoped>\n",
       "    .dataframe tbody tr th:only-of-type {\n",
       "        vertical-align: middle;\n",
       "    }\n",
       "\n",
       "    .dataframe tbody tr th {\n",
       "        vertical-align: top;\n",
       "    }\n",
       "\n",
       "    .dataframe thead th {\n",
       "        text-align: right;\n",
       "    }\n",
       "</style>\n",
       "<table border=\"1\" class=\"dataframe\">\n",
       "  <thead>\n",
       "    <tr style=\"text-align: right;\">\n",
       "      <th></th>\n",
       "      <th>Segment</th>\n",
       "      <th>Country</th>\n",
       "      <th>Product</th>\n",
       "      <th>Discount Band</th>\n",
       "      <th>Date</th>\n",
       "      <th>Month Name</th>\n",
       "    </tr>\n",
       "  </thead>\n",
       "  <tbody>\n",
       "    <tr>\n",
       "      <th>count</th>\n",
       "      <td>700</td>\n",
       "      <td>700</td>\n",
       "      <td>700</td>\n",
       "      <td>700</td>\n",
       "      <td>700</td>\n",
       "      <td>700</td>\n",
       "    </tr>\n",
       "    <tr>\n",
       "      <th>unique</th>\n",
       "      <td>5</td>\n",
       "      <td>5</td>\n",
       "      <td>6</td>\n",
       "      <td>4</td>\n",
       "      <td>16</td>\n",
       "      <td>12</td>\n",
       "    </tr>\n",
       "    <tr>\n",
       "      <th>top</th>\n",
       "      <td>government</td>\n",
       "      <td>germany</td>\n",
       "      <td>paseo</td>\n",
       "      <td>high</td>\n",
       "      <td>1-dec-14</td>\n",
       "      <td>october</td>\n",
       "    </tr>\n",
       "    <tr>\n",
       "      <th>freq</th>\n",
       "      <td>300</td>\n",
       "      <td>140</td>\n",
       "      <td>202</td>\n",
       "      <td>245</td>\n",
       "      <td>70</td>\n",
       "      <td>140</td>\n",
       "    </tr>\n",
       "  </tbody>\n",
       "</table>\n",
       "</div>"
      ],
      "text/plain": [
       "           Segment  Country Product Discount Band      Date Month Name\n",
       "count          700      700     700           700       700        700\n",
       "unique           5        5       6             4        16         12\n",
       "top     government  germany   paseo          high  1-dec-14    october\n",
       "freq           300      140     202           245        70        140"
      ]
     },
     "execution_count": 35,
     "metadata": {},
     "output_type": "execute_result"
    }
   ],
   "source": [
    "gov_df.describe(include='object')"
   ]
  },
  {
   "cell_type": "code",
   "execution_count": 39,
   "id": "a8efd1f9-2d99-4269-b896-704649eec175",
   "metadata": {},
   "outputs": [
    {
     "data": {
      "text/plain": [
       "Segment\n",
       "government          0.428571\n",
       "midmarket           0.142857\n",
       "channel partners    0.142857\n",
       "enterprise          0.142857\n",
       "small business      0.142857\n",
       "Name: proportion, dtype: float64"
      ]
     },
     "execution_count": 39,
     "metadata": {},
     "output_type": "execute_result"
    }
   ],
   "source": [
    "gov_df['Segment'].value_counts(normalize=True)"
   ]
  },
  {
   "cell_type": "code",
   "execution_count": 41,
   "id": "94d8326f-c1ac-4db1-8929-dafe8805246b",
   "metadata": {},
   "outputs": [
    {
     "data": {
      "text/plain": [
       "Country\n",
       "germany                     0.2\n",
       "canada                      0.2\n",
       "france                      0.2\n",
       "mexico                      0.2\n",
       "united states of america    0.2\n",
       "Name: proportion, dtype: float64"
      ]
     },
     "execution_count": 41,
     "metadata": {},
     "output_type": "execute_result"
    }
   ],
   "source": [
    "gov_df['Country'].value_counts(normalize=True)"
   ]
  },
  {
   "cell_type": "code",
   "execution_count": 43,
   "id": "d143e573-9036-41a0-829b-1efeb1c03070",
   "metadata": {},
   "outputs": [
    {
     "data": {
      "text/plain": [
       "Product\n",
       "paseo        0.288571\n",
       "velo         0.155714\n",
       "vtt          0.155714\n",
       "amarilla     0.134286\n",
       "carretera    0.132857\n",
       "montana      0.132857\n",
       "Name: proportion, dtype: float64"
      ]
     },
     "execution_count": 43,
     "metadata": {},
     "output_type": "execute_result"
    }
   ],
   "source": [
    "gov_df['Product'].value_counts(normalize=True)"
   ]
  },
  {
   "cell_type": "code",
   "execution_count": 45,
   "id": "8e06630f-70e5-4c79-886f-dc44ea85184a",
   "metadata": {},
   "outputs": [
    {
     "data": {
      "text/html": [
       "<div>\n",
       "<style scoped>\n",
       "    .dataframe tbody tr th:only-of-type {\n",
       "        vertical-align: middle;\n",
       "    }\n",
       "\n",
       "    .dataframe tbody tr th {\n",
       "        vertical-align: top;\n",
       "    }\n",
       "\n",
       "    .dataframe thead th {\n",
       "        text-align: right;\n",
       "    }\n",
       "</style>\n",
       "<table border=\"1\" class=\"dataframe\">\n",
       "  <thead>\n",
       "    <tr style=\"text-align: right;\">\n",
       "      <th></th>\n",
       "      <th>Profit</th>\n",
       "      <th>total</th>\n",
       "    </tr>\n",
       "  </thead>\n",
       "  <tbody>\n",
       "    <tr>\n",
       "      <th>0</th>\n",
       "      <td>-40617.50</td>\n",
       "      <td>1</td>\n",
       "    </tr>\n",
       "    <tr>\n",
       "      <th>1</th>\n",
       "      <td>-38046.25</td>\n",
       "      <td>1</td>\n",
       "    </tr>\n",
       "    <tr>\n",
       "      <th>2</th>\n",
       "      <td>-35550.00</td>\n",
       "      <td>1</td>\n",
       "    </tr>\n",
       "    <tr>\n",
       "      <th>3</th>\n",
       "      <td>-35262.50</td>\n",
       "      <td>1</td>\n",
       "    </tr>\n",
       "    <tr>\n",
       "      <th>4</th>\n",
       "      <td>-33522.50</td>\n",
       "      <td>1</td>\n",
       "    </tr>\n",
       "    <tr>\n",
       "      <th>...</th>\n",
       "      <td>...</td>\n",
       "      <td>...</td>\n",
       "    </tr>\n",
       "    <tr>\n",
       "      <th>552</th>\n",
       "      <td>236716.00</td>\n",
       "      <td>2</td>\n",
       "    </tr>\n",
       "    <tr>\n",
       "      <th>553</th>\n",
       "      <td>238791.00</td>\n",
       "      <td>2</td>\n",
       "    </tr>\n",
       "    <tr>\n",
       "      <th>554</th>\n",
       "      <td>246178.00</td>\n",
       "      <td>2</td>\n",
       "    </tr>\n",
       "    <tr>\n",
       "      <th>555</th>\n",
       "      <td>247500.00</td>\n",
       "      <td>1</td>\n",
       "    </tr>\n",
       "    <tr>\n",
       "      <th>556</th>\n",
       "      <td>262200.00</td>\n",
       "      <td>1</td>\n",
       "    </tr>\n",
       "  </tbody>\n",
       "</table>\n",
       "<p>557 rows × 2 columns</p>\n",
       "</div>"
      ],
      "text/plain": [
       "        Profit  total\n",
       "0    -40617.50      1\n",
       "1    -38046.25      1\n",
       "2    -35550.00      1\n",
       "3    -35262.50      1\n",
       "4    -33522.50      1\n",
       "..         ...    ...\n",
       "552  236716.00      2\n",
       "553  238791.00      2\n",
       "554  246178.00      2\n",
       "555  247500.00      1\n",
       "556  262200.00      1\n",
       "\n",
       "[557 rows x 2 columns]"
      ]
     },
     "execution_count": 45,
     "metadata": {},
     "output_type": "execute_result"
    }
   ],
   "source": [
    "gov_df_profit = gov_df.groupby('Profit').size().reset_index(name='total')\n",
    "gov_df_profit"
   ]
  },
  {
   "cell_type": "code",
   "execution_count": 47,
   "id": "bd464eed-9d43-418c-9b6d-ba38c9357736",
   "metadata": {},
   "outputs": [],
   "source": [
    "import plotly.express as px\n",
    "import matplotlib.pyplot as plt"
   ]
  },
  {
   "cell_type": "code",
   "execution_count": 48,
   "id": "dbb7346a-0294-40ce-bae6-16b61fe00476",
   "metadata": {},
   "outputs": [
    {
     "name": "stdout",
     "output_type": "stream",
     "text": [
      "['Segment', 'Country', 'Product', 'Discount Band', 'Units Sold', 'Manufacturing Price', 'Sale Price', 'Gross Sales', 'Discounts', ' Sales', 'COGS', 'Profit', 'Date', 'Month Number', 'Month Name', 'Year']\n"
     ]
    }
   ],
   "source": [
    "print(gov_df.columns.tolist())"
   ]
  },
  {
   "cell_type": "code",
   "execution_count": 49,
   "id": "4345ba1c-3794-41e1-85cd-2bf5391f74b9",
   "metadata": {},
   "outputs": [],
   "source": [
    "gov_df.columns = gov_df.columns.str.strip()  # remove spaces\n"
   ]
  },
  {
   "cell_type": "code",
   "execution_count": 53,
   "id": "8abd497e-90c2-4deb-8d28-88c6271ab917",
   "metadata": {},
   "outputs": [
    {
     "data": {
      "text/html": [
       "<div>\n",
       "<style scoped>\n",
       "    .dataframe tbody tr th:only-of-type {\n",
       "        vertical-align: middle;\n",
       "    }\n",
       "\n",
       "    .dataframe tbody tr th {\n",
       "        vertical-align: top;\n",
       "    }\n",
       "\n",
       "    .dataframe thead th {\n",
       "        text-align: right;\n",
       "    }\n",
       "</style>\n",
       "<table border=\"1\" class=\"dataframe\">\n",
       "  <thead>\n",
       "    <tr style=\"text-align: right;\">\n",
       "      <th></th>\n",
       "      <th>Segment</th>\n",
       "      <th>Country</th>\n",
       "      <th>Product</th>\n",
       "      <th>Discount Band</th>\n",
       "      <th>Units Sold</th>\n",
       "      <th>Manufacturing Price</th>\n",
       "      <th>Sale Price</th>\n",
       "      <th>Gross Sales</th>\n",
       "      <th>Discounts</th>\n",
       "      <th>Sales</th>\n",
       "      <th>COGS</th>\n",
       "      <th>Profit</th>\n",
       "      <th>Date</th>\n",
       "      <th>Month Number</th>\n",
       "      <th>Month Name</th>\n",
       "      <th>Year</th>\n",
       "    </tr>\n",
       "  </thead>\n",
       "  <tbody>\n",
       "    <tr>\n",
       "      <th>0</th>\n",
       "      <td>government</td>\n",
       "      <td>germany</td>\n",
       "      <td>carretera</td>\n",
       "      <td>unknown</td>\n",
       "      <td>1513.0</td>\n",
       "      <td>3</td>\n",
       "      <td>350</td>\n",
       "      <td>529550.0</td>\n",
       "      <td>0.00</td>\n",
       "      <td>529550.00</td>\n",
       "      <td>393380.0</td>\n",
       "      <td>136170.00</td>\n",
       "      <td>1-dec-14</td>\n",
       "      <td>12</td>\n",
       "      <td>december</td>\n",
       "      <td>2014</td>\n",
       "    </tr>\n",
       "    <tr>\n",
       "      <th>1</th>\n",
       "      <td>government</td>\n",
       "      <td>germany</td>\n",
       "      <td>paseo</td>\n",
       "      <td>unknown</td>\n",
       "      <td>1006.0</td>\n",
       "      <td>10</td>\n",
       "      <td>350</td>\n",
       "      <td>352100.0</td>\n",
       "      <td>0.00</td>\n",
       "      <td>352100.00</td>\n",
       "      <td>261560.0</td>\n",
       "      <td>90540.00</td>\n",
       "      <td>1-jun-14</td>\n",
       "      <td>6</td>\n",
       "      <td>june</td>\n",
       "      <td>2014</td>\n",
       "    </tr>\n",
       "    <tr>\n",
       "      <th>2</th>\n",
       "      <td>government</td>\n",
       "      <td>canada</td>\n",
       "      <td>paseo</td>\n",
       "      <td>unknown</td>\n",
       "      <td>1725.0</td>\n",
       "      <td>10</td>\n",
       "      <td>350</td>\n",
       "      <td>603750.0</td>\n",
       "      <td>0.00</td>\n",
       "      <td>603750.00</td>\n",
       "      <td>448500.0</td>\n",
       "      <td>155250.00</td>\n",
       "      <td>1-nov-13</td>\n",
       "      <td>11</td>\n",
       "      <td>november</td>\n",
       "      <td>2013</td>\n",
       "    </tr>\n",
       "    <tr>\n",
       "      <th>3</th>\n",
       "      <td>government</td>\n",
       "      <td>germany</td>\n",
       "      <td>paseo</td>\n",
       "      <td>unknown</td>\n",
       "      <td>1513.0</td>\n",
       "      <td>10</td>\n",
       "      <td>350</td>\n",
       "      <td>529550.0</td>\n",
       "      <td>0.00</td>\n",
       "      <td>529550.00</td>\n",
       "      <td>393380.0</td>\n",
       "      <td>136170.00</td>\n",
       "      <td>1-dec-14</td>\n",
       "      <td>12</td>\n",
       "      <td>december</td>\n",
       "      <td>2014</td>\n",
       "    </tr>\n",
       "    <tr>\n",
       "      <th>4</th>\n",
       "      <td>government</td>\n",
       "      <td>germany</td>\n",
       "      <td>velo</td>\n",
       "      <td>unknown</td>\n",
       "      <td>1006.0</td>\n",
       "      <td>120</td>\n",
       "      <td>350</td>\n",
       "      <td>352100.0</td>\n",
       "      <td>0.00</td>\n",
       "      <td>352100.00</td>\n",
       "      <td>261560.0</td>\n",
       "      <td>90540.00</td>\n",
       "      <td>1-jun-14</td>\n",
       "      <td>6</td>\n",
       "      <td>june</td>\n",
       "      <td>2014</td>\n",
       "    </tr>\n",
       "    <tr>\n",
       "      <th>...</th>\n",
       "      <td>...</td>\n",
       "      <td>...</td>\n",
       "      <td>...</td>\n",
       "      <td>...</td>\n",
       "      <td>...</td>\n",
       "      <td>...</td>\n",
       "      <td>...</td>\n",
       "      <td>...</td>\n",
       "      <td>...</td>\n",
       "      <td>...</td>\n",
       "      <td>...</td>\n",
       "      <td>...</td>\n",
       "      <td>...</td>\n",
       "      <td>...</td>\n",
       "      <td>...</td>\n",
       "      <td>...</td>\n",
       "    </tr>\n",
       "    <tr>\n",
       "      <th>695</th>\n",
       "      <td>midmarket</td>\n",
       "      <td>canada</td>\n",
       "      <td>paseo</td>\n",
       "      <td>high</td>\n",
       "      <td>1614.0</td>\n",
       "      <td>10</td>\n",
       "      <td>15</td>\n",
       "      <td>24210.0</td>\n",
       "      <td>3631.50</td>\n",
       "      <td>20578.50</td>\n",
       "      <td>16140.0</td>\n",
       "      <td>4438.50</td>\n",
       "      <td>1-apr-14</td>\n",
       "      <td>4</td>\n",
       "      <td>april</td>\n",
       "      <td>2014</td>\n",
       "    </tr>\n",
       "    <tr>\n",
       "      <th>696</th>\n",
       "      <td>midmarket</td>\n",
       "      <td>canada</td>\n",
       "      <td>paseo</td>\n",
       "      <td>high</td>\n",
       "      <td>2559.0</td>\n",
       "      <td>10</td>\n",
       "      <td>15</td>\n",
       "      <td>38385.0</td>\n",
       "      <td>5757.75</td>\n",
       "      <td>32627.25</td>\n",
       "      <td>25590.0</td>\n",
       "      <td>7037.25</td>\n",
       "      <td>1-aug-14</td>\n",
       "      <td>8</td>\n",
       "      <td>august</td>\n",
       "      <td>2014</td>\n",
       "    </tr>\n",
       "    <tr>\n",
       "      <th>697</th>\n",
       "      <td>enterprise</td>\n",
       "      <td>germany</td>\n",
       "      <td>paseo</td>\n",
       "      <td>high</td>\n",
       "      <td>1085.0</td>\n",
       "      <td>10</td>\n",
       "      <td>125</td>\n",
       "      <td>135625.0</td>\n",
       "      <td>20343.75</td>\n",
       "      <td>115281.25</td>\n",
       "      <td>130200.0</td>\n",
       "      <td>-14918.75</td>\n",
       "      <td>1-oct-14</td>\n",
       "      <td>10</td>\n",
       "      <td>october</td>\n",
       "      <td>2014</td>\n",
       "    </tr>\n",
       "    <tr>\n",
       "      <th>698</th>\n",
       "      <td>midmarket</td>\n",
       "      <td>germany</td>\n",
       "      <td>paseo</td>\n",
       "      <td>high</td>\n",
       "      <td>1175.0</td>\n",
       "      <td>10</td>\n",
       "      <td>15</td>\n",
       "      <td>17625.0</td>\n",
       "      <td>2643.75</td>\n",
       "      <td>14981.25</td>\n",
       "      <td>11750.0</td>\n",
       "      <td>3231.25</td>\n",
       "      <td>1-oct-14</td>\n",
       "      <td>10</td>\n",
       "      <td>october</td>\n",
       "      <td>2014</td>\n",
       "    </tr>\n",
       "    <tr>\n",
       "      <th>699</th>\n",
       "      <td>channel partners</td>\n",
       "      <td>united states of america</td>\n",
       "      <td>paseo</td>\n",
       "      <td>high</td>\n",
       "      <td>914.0</td>\n",
       "      <td>10</td>\n",
       "      <td>12</td>\n",
       "      <td>10968.0</td>\n",
       "      <td>1645.20</td>\n",
       "      <td>9322.80</td>\n",
       "      <td>2742.0</td>\n",
       "      <td>6580.80</td>\n",
       "      <td>1-dec-14</td>\n",
       "      <td>12</td>\n",
       "      <td>december</td>\n",
       "      <td>2014</td>\n",
       "    </tr>\n",
       "  </tbody>\n",
       "</table>\n",
       "<p>700 rows × 16 columns</p>\n",
       "</div>"
      ],
      "text/plain": [
       "              Segment                   Country    Product Discount Band  \\\n",
       "0          government                   germany  carretera       unknown   \n",
       "1          government                   germany      paseo       unknown   \n",
       "2          government                    canada      paseo       unknown   \n",
       "3          government                   germany      paseo       unknown   \n",
       "4          government                   germany       velo       unknown   \n",
       "..                ...                       ...        ...           ...   \n",
       "695         midmarket                    canada      paseo          high   \n",
       "696         midmarket                    canada      paseo          high   \n",
       "697        enterprise                   germany      paseo          high   \n",
       "698         midmarket                   germany      paseo          high   \n",
       "699  channel partners  united states of america      paseo          high   \n",
       "\n",
       "     Units Sold  Manufacturing Price  Sale Price  Gross Sales  Discounts  \\\n",
       "0        1513.0                    3         350     529550.0       0.00   \n",
       "1        1006.0                   10         350     352100.0       0.00   \n",
       "2        1725.0                   10         350     603750.0       0.00   \n",
       "3        1513.0                   10         350     529550.0       0.00   \n",
       "4        1006.0                  120         350     352100.0       0.00   \n",
       "..          ...                  ...         ...          ...        ...   \n",
       "695      1614.0                   10          15      24210.0    3631.50   \n",
       "696      2559.0                   10          15      38385.0    5757.75   \n",
       "697      1085.0                   10         125     135625.0   20343.75   \n",
       "698      1175.0                   10          15      17625.0    2643.75   \n",
       "699       914.0                   10          12      10968.0    1645.20   \n",
       "\n",
       "         Sales      COGS     Profit      Date  Month Number Month Name  Year  \n",
       "0    529550.00  393380.0  136170.00  1-dec-14            12   december  2014  \n",
       "1    352100.00  261560.0   90540.00  1-jun-14             6       june  2014  \n",
       "2    603750.00  448500.0  155250.00  1-nov-13            11   november  2013  \n",
       "3    529550.00  393380.0  136170.00  1-dec-14            12   december  2014  \n",
       "4    352100.00  261560.0   90540.00  1-jun-14             6       june  2014  \n",
       "..         ...       ...        ...       ...           ...        ...   ...  \n",
       "695   20578.50   16140.0    4438.50  1-apr-14             4      april  2014  \n",
       "696   32627.25   25590.0    7037.25  1-aug-14             8     august  2014  \n",
       "697  115281.25  130200.0  -14918.75  1-oct-14            10    october  2014  \n",
       "698   14981.25   11750.0    3231.25  1-oct-14            10    october  2014  \n",
       "699    9322.80    2742.0    6580.80  1-dec-14            12   december  2014  \n",
       "\n",
       "[700 rows x 16 columns]"
      ]
     },
     "execution_count": 53,
     "metadata": {},
     "output_type": "execute_result"
    }
   ],
   "source": [
    "gov_df"
   ]
  },
  {
   "cell_type": "markdown",
   "id": "5bead5a5-048c-4dda-8f33-1ca4ba4ecea2",
   "metadata": {},
   "source": [
    "## Time Series Analysis – Sales and Profit Over Time\n",
    "To explore trends and seasonality in financial performance, we generate a time series line chart showing the evolution of Sales and Profit over time. By grouping data by the Date field and summing the Sales and Profit for each date, we can visualize monthly fluctuations, identify seasonal patterns, and detect any potential surges or drops in performance."
   ]
  },
  {
   "cell_type": "code",
   "execution_count": 56,
   "id": "daf7e6d5-2623-48c8-9223-96032795a4e4",
   "metadata": {},
   "outputs": [
    {
     "name": "stderr",
     "output_type": "stream",
     "text": [
      "C:\\Users\\user\\AppData\\Local\\Temp\\ipykernel_16224\\1259637310.py:2: UserWarning: Could not infer format, so each element will be parsed individually, falling back to `dateutil`. To ensure parsing is consistent and as-expected, please specify a format.\n",
      "  gov_df['Date'] = pd.to_datetime(gov_df['Date'])\n"
     ]
    },
    {
     "data": {
      "image/png": "[encoded data removed]",
      "text/plain": [
       "<Figure size 1200x600 with 1 Axes>"
      ]
     },
     "metadata": {},
     "output_type": "display_data"
    }
   ],
   "source": [
    "\n",
    "\n",
    "# Convert date column to datetime format (if not already)\n",
    "gov_df['Date'] = pd.to_datetime(gov_df['Date'])\n",
    "\n",
    "time_group = gov_df.groupby('Date')[['Sales', 'Profit']].sum().reset_index()\n",
    "\n",
    "plt.figure(figsize=(12, 6))\n",
    "plt.plot(time_group['Date'], time_group['Sales'], label='Sales')\n",
    "plt.plot(time_group['Date'], time_group['Profit'], label='Profit')\n",
    "plt.title('Sales and Profit Over Time')\n",
    "plt.xlabel('Date')\n",
    "plt.ylabel('Amount')\n",
    "plt.legend()\n",
    "plt.tight_layout()\n",
    "plt.show()\n"
   ]
  },
  {
   "cell_type": "markdown",
   "id": "e4588cdb-27b3-4aae-9a75-93db19315676",
   "metadata": {},
   "source": [
    ".Sales show clear monthly variations, with several sharp peaks—particularly around October 2014 and December 2014, indicating significant sales spikes during those months.\n",
    "\n",
    ".Profit also follows a fluctuating trend but remains much lower in magnitude compared to sales, suggesting:\n",
    "\n",
    ".High operating costs or aggressive discounting may be narrowing margins.\n",
    "\n",
    ".Potential inefficiencies in cost management or differences in profitability across product categories or countries.\n",
    "\n",
    ".There is no steady upward or downward trend across the time period; instead, the performance is cyclical or influenced by one-time events.\n",
    "\n",
    ".A closer analysis of these spikes could help identify promotions, procurement strategies, or external factors driving revenue during peak months.\n",
    "\n",
    ".This visualization is essential for understanding seasonal dynamics and preparing for periods of high or low performance in future forecasting.\n",
    "\n"
   ]
  },
  {
   "cell_type": "code",
   "execution_count": null,
   "id": "1a383611-da7e-45e0-83bf-980146277cd7",
   "metadata": {},
   "outputs": [],
   "source": []
  },
  {
   "cell_type": "markdown",
   "id": "f27adbd2-6e6d-4905-b44b-d5b119af0769",
   "metadata": {},
   "source": [
    "**Data Aggregation and Sorting:** The first part of the code takes a DataFrame (presumably named gov_df) and groups all its records by the 'Country' column. For each country, it then calculates the total 'Sales' and total 'Profit'. Finally, it sorts these aggregated results, arranging the countries from the highest total sales to the lowest. This step prepares the data in a way that makes it easy to compare sales and profit across different nations.\n",
    "\n",
    "**Chart Generation and Display:** The second part of the code takes the prepared (aggregated and sorted) data and creates a bar chart. It sets the size of the chart, assigns a clear title (\"Sales and Profit by Country\"), labels the vertical axis as 'Amount', and then ensures all elements of the plot are neatly arranged before finally displaying the chart to the user."
   ]
  },
  {
   "cell_type": "code",
   "execution_count": 61,
   "id": "e75cebd0-b78c-4518-b8d1-0d0de21039fb",
   "metadata": {
    "scrolled": true
   },
   "outputs": [
    {
     "data": {
      "image/png": "[encoded data removed]",
      "text/plain": [
       "<Figure size 1200x600 with 1 Axes>"
      ]
     },
     "metadata": {},
     "output_type": "display_data"
    }
   ],
   "source": [
    "country_group = gov_df.groupby('Country')[['Sales', 'Profit']].sum().sort_values(by='Sales', ascending=False)\n",
    "\n",
    "country_group.plot(kind='bar', figsize=(12, 6), title='Sales and Profit by Country')\n",
    "plt.ylabel('Amount')\n",
    "plt.tight_layout()\n",
    "plt.show()\n"
   ]
  },
  {
   "cell_type": "markdown",
   "id": "392d74b3-1692-4840-bdde-a6cc5b574ccc",
   "metadata": {},
   "source": [
    "The bar chart, generated by the code, provides clear insights into the sales and profit performance across five different countries:\n",
    "\n",
    "Sales Dominance: The United States of America and Canada are the clear leaders in sales, each nearing $25 million. This indicates a very strong market presence and high revenue generation in these two countries. France follows, also with significant sales.\n",
    "\n",
    "Profitability Varies Significantly: While the top sales countries also show positive profits, the most striking insight comes from Germany, which, despite having substantial sales (ranking fourth overall), registers a negative profit. This is a critical observation, suggesting that even with high revenue, Germany is currently operating at a loss, which could be due to high operational costs, inefficient management, or aggressive pricing strategies.\n",
    "\n",
    "Mexico's Modest Contribution: Mexico has the lowest sales among the five countries and a correspondingly lower, but positive, profit. This suggests a smaller market presence or less developed operations compared to the other nations.\n",
    "\n",
    "Sales vs. Profit Disconnect: The chart highlights that high sales do not automatically guarantee high or even positive profits. Germany's case is a prime example of this disconnect, where strong revenue is undermined by poor profitability. This emphasizes the importance of analyzing both sales and profit figures to understand true business performance."
   ]
  },
  {
   "cell_type": "markdown",
   "id": "76edff85-c564-48a0-8731-ab43d41e5d45",
   "metadata": {},
   "source": [
    "**Data Aggregation and Sorting:** The first part of the code takes a DataFrame (likely named gov_df), and it groups all its records based on the 'Product' column. For each unique product, it then calculates the total 'Sales' and total 'Profit'. After summing these values, it sorts the results so that products with the highest total sales appear first, followed by those with lower sales. This step effectively organizes the data to allow for easy comparison of performance across different products.\n",
    "\n",
    "**Chart Generation and Display:** The second part of the code takes this organized product data and creates a bar chart. It sets the size of the chart for good visibility (12 inches by 6 inches), gives it a clear title (\"Sales and Profit by Product\"), labels the vertical axis as 'Amount' (representing sales and profit values), and then optimizes the layout to prevent any labels or titles from overlapping. Finally, it displays the generated bar chart."
   ]
  },
  {
   "cell_type": "code",
   "execution_count": 65,
   "id": "db915bd6-c6f5-4f21-be6d-12c2b43e0d2a",
   "metadata": {},
   "outputs": [
    {
     "data": {
      "image/png": "[encoded data removed]",
      "text/plain": [
       "<Figure size 1200x600 with 1 Axes>"
      ]
     },
     "metadata": {},
     "output_type": "display_data"
    }
   ],
   "source": [
    "product_group = gov_df.groupby('Product')[['Sales', 'Profit']].sum().sort_values(by='Sales', ascending=False)\n",
    "\n",
    "product_group.plot(kind='bar', figsize=(12, 6), title='Sales and Profit by Product')\n",
    "plt.ylabel('Amount')\n",
    "plt.tight_layout()\n",
    "plt.show()\n"
   ]
  },
  {
   "cell_type": "markdown",
   "id": "d39601ed-99ec-4a01-826d-16d367adf832",
   "metadata": {},
   "source": [
    "The bar chart \"Sales and Profit by Product\" provides several key insights into the performance of different products:\n",
    "\n",
    ".Paseo is the Dominant Product: \"Paseo\" stands out as the top-performing product by a significant margin, generating over $30 million in sales. It also contributes the highest absolute profit, clearly being the most crucial product for revenue.\n",
    "\n",
    ".Top 4 Products for Sales: \"Paseo,\" \"VTT,\" \"Velo,\" and \"Amarilla\" are the leading products in terms of sales, all generating substantial revenue.\n",
    "\n",
    ".Consistent Profit Margins: For most products, including \"Paseo,\" \"VTT,\" \"Velo,\" \"Amarilla,\" and \"Montana,\" the profit, while considerably smaller than sales, appears to maintain a somewhat consistent positive ratio to sales. This suggests that these products are generally profitable.\n",
    "\n",
    ".Lower Sales for Montana and Carreteria: \"Montana\" and \"Carretera\" have comparatively lower sales than the other products, with \"Carretera\" having the lowest sales among all shown products.\n",
    "\n",
    ".Profitability Across Products: All the products displayed in the chart show positive profit, indicating that none of them are operating at a loss. While the profit amounts vary, they generally follow the trend of sales, meaning higher sales usually correspond to higher absolute profit.\n",
    "\n",
    ".Potential for Optimization: While all products are profitable, the chart clearly identifies \"Paseo\" as the star product. Businesses might consider strategies to further leverage \"Paseo's\" success or analyze if the profit margins of other products like \"Carretera\" can be improved.````m"
   ]
  },
  {
   "cell_type": "markdown",
   "id": "eeb7295d-d202-4b03-87f8-b9afadb91155",
   "metadata": {},
   "source": [
    "**Data Aggregation and Preparation:** The code first groups the data (from gov_df) by 'Product' and calculates the sum of 'COGS' and 'Profit' for each. To ensure a clear visual hierarchy in the chart, it then creates a temporary 'total' column by adding COGS and Profit for each product. This 'total' is used to sort the products from highest combined COGS and Profit to lowest, before the temporary 'total' column is dropped. This preparation ensures the most impactful products are shown first in the chart.\n",
    "\n",
    "**Stacked Bar Chart Generation:** Finally, the code generates a stacked bar chart. This type of chart is ideal because it allows for the visualization of two components (COGS and Profit) contributing to a single total (which is implicitly Sales or Revenue). It sets the chart's size, applies a descriptive title, labels the axes, rotates the product names for readability, adds a legend to distinguish COGS from Profit, and optimizes the layout before displaying the chart."
   ]
  },
  {
   "cell_type": "code",
   "execution_count": 69,
   "id": "5190d688-4e5f-4d4a-8625-7322b6a12a40",
   "metadata": {
    "scrolled": true
   },
   "outputs": [
    {
     "data": {
      "image/png": "[encoded data removed]",
      "text/plain": [
       "<Figure size 1400x600 with 1 Axes>"
      ]
     },
     "metadata": {},
     "output_type": "display_data"
    }
   ],
   "source": [
    "# Group by product and sum profit and COGS\n",
    "stacked_data = gov_df.groupby('Product')[['COGS', 'Profit']].sum()\n",
    "\n",
    "# Sort by total (COGS + profit) for better visual\n",
    "stacked_data['total'] = stacked_data['COGS'] + stacked_data['Profit']\n",
    "stacked_data = stacked_data.sort_values(by='total', ascending=False)\n",
    "stacked_data = stacked_data.drop(columns='total')\n",
    "\n",
    "# Plot stacked bar chart\n",
    "stacked_data.plot(kind='bar', stacked=True, figsize=(14, 6), color=['#1f77b4', '#2ca02c'])\n",
    "\n",
    "plt.title('COGS and Profit by Product (Stacked)')\n",
    "plt.xlabel('Product')\n",
    "plt.ylabel('Amount')\n",
    "plt.xticks(rotation=45, ha='right')\n",
    "plt.legend(title='Metric')\n",
    "plt.tight_layout()\n",
    "plt.show()\n"
   ]
  },
  {
   "cell_type": "markdown",
   "id": "f1b89aed-3516-4507-86d3-50f9f3d9cd6b",
   "metadata": {},
   "source": [
    "The stacked bar chart \"COGS and Profit by Product (Stacked)\" offers the following key insights:\n",
    "\n",
    "Paseo's Dominance: \"Paseo\" is clearly the product with the highest overall contribution (COGS + Profit), indicating it has the largest sales volume. Both its COGS (the larger blue portion) and profit (the green portion on top) are significantly higher than other products.\n",
    "\n",
    "VTT and Velo are Strong Contributors: \"VTT\" and \"Velo\" follow \"Paseo\" as the next highest contributors, showing substantial COGS and healthy profit margins.\n",
    "\n",
    "Consistent Profitability Across Products: For all products displayed, there is a visible green segment on top of the blue COGS segment, which indicates that all products are profitable. None of them show a negative profit, which is a positive sign for the business.\n",
    "\n",
    "Relationship Between COGS and Profit: The chart visually represents the proportion of COGS and Profit for each product. While COGS (the blue part) makes up the majority of the total for all products, the consistent presence of the green 'Profit' segment on top is a healthy indicator.\n",
    "\n",
    "Carretera's Smaller Scale: \"Carretera\" has the lowest total contribution (COGS + Profit), suggesting it has the lowest sales volume among the listed products. However, it still maintains a positive profit margin.\n",
    "\n",
    "Efficiency and Cost Management: The chart implicitly shows the efficiency of each product. Products with a larger green portion relative to their total bar might be more profitable per unit of sales, even if their overall sales volume is lower. Conversely, even with high sales, a very thin green line might suggest lower profit margins. \"Paseo\" appears to have a good balance of high sales volume and a healthy profit margin."
   ]
  },
  {
   "cell_type": "code",
   "execution_count": null,
   "id": "89d23fc9-a3ad-4018-9c05-3e6cfd1f2033",
   "metadata": {},
   "outputs": [],
   "source": []
  },
  {
   "cell_type": "markdown",
   "id": "6712ca71-1f74-4604-ba62-9c0c604f81d7",
   "metadata": {},
   "source": [
    "**Data Aggregation:** The first part of the code takes the DataFrame (presumably gov_df) and groups all its records based on the 'Segment' column. For each unique customer segment (e.g., \"government,\" \"enterprise,\" \"small business\"), it calculates the sum of all 'Sales' associated with that segment. This step aggregates the raw sales data into segment-wise totals.\n",
    "\n",
    "**Pie Chart Generation:** The second part of the code then takes these aggregated sales totals and generates a pie chart. A pie chart is particularly suitable here because it visually represents how each segment contributes to the total sales as a proportion. The autopct='%1.1f%%' argument formats the percentages to one decimal place directly on the chart slices, making it easy to read the exact contribution of each segment. It also sets the chart size and title, and explicitly removes the y-axis label (which is not needed for a pie chart) before displaying the plot."
   ]
  },
  {
   "cell_type": "code",
   "execution_count": 74,
   "id": "a8f56680-8516-4f57-9a17-a79c785ecde1",
   "metadata": {
    "scrolled": true
   },
   "outputs": [
    {
     "data": {
      "image/png": "[encoded data removed]",
      "text/plain": [
       "<Figure size 800x800 with 1 Axes>"
      ]
     },
     "metadata": {},
     "output_type": "display_data"
    }
   ],
   "source": [
    "segment_sales = gov_df.groupby('Segment')['Sales'].sum()\n",
    "\n",
    "segment_sales.plot(kind='pie', autopct='%1.1f%%', figsize=(8, 8), title='Segment by Sales')\n",
    "plt.ylabel('')  # Remove y-label\n",
    "plt.show()\n"
   ]
  },
  {
   "cell_type": "markdown",
   "id": "9e576564-c1a4-4ce1-b4d6-7ee5d43a786f",
   "metadata": {},
   "source": [
    "The pie chart \"Segment by Sales\" provides clear insights into the distribution of sales across different customer segments:\n",
    "\n",
    "Government is the Largest Segment: The \"government\" segment accounts for the largest share of sales at 44.2%. This indicates that government contracts or sales to governmental entities are the primary revenue driver for the business.\n",
    "\n",
    "Small Business is a Significant Contributor: The \"small business\" segment is the second largest, contributing 35.7% of the total sales. Combined with government, these two segments make up nearly 80% of the total sales.\n",
    "\n",
    "Enterprise Plays a Notable Role: The \"enterprise\" segment contributes 16.5% of sales, making it the third most significant segment.\n",
    "\n",
    "Midmarket and Channel Partners are Smaller Segments: \"Midmarket\" accounts for a small 2.0% of sales, and \"channel partners\" represent the smallest slice at 1.5%. These segments contribute very little to the overall sales revenue compared to the others.\n",
    "\n",
    "Focus Areas for Growth: The chart clearly highlights where the sales efforts are currently concentrated and successful (government, small business, enterprise). For growth, the company might consider further investment in these dominant segments or strategically evaluate if it's worthwhile to try and grow the smaller \"midmarket\" and \"channel partners\" segments, given their current minimal contribution."
   ]
  },
  {
   "cell_type": "markdown",
   "id": "adfae09d-f65a-4c51-b9bd-37490befe473",
   "metadata": {},
   "source": [
    "**Profit Margin Calculation and Preparation:** The first part of the code aggregates the 'Sales' and 'Profit' data from the gov_df DataFrame for each 'Country'. It then calculates the 'Profit_margin' for each country by dividing the total 'Profit' by the total 'Sales'. This is a crucial step as profit margin provides a percentage indicator of how much profit is made for every dollar of sales, offering a different perspective than just raw profit numbers. Finally, it sorts these countries by their calculated profit margin in descending order, so the most profitable countries appear first.\n",
    "\n",
    "**Bar Chart Generation:** The second part of the code then takes these calculated and sorted profit margins and generates a bar chart. This type of chart is effective for comparing the profit margins across different countries. It sets the size of the chart, applies a clear title (\"Profit Margin by Country\"), labels the y-axis specifically as 'Profit Margin (Profit ÷ Sales)' to indicate what the values represent, labels the x-axis as 'Country', rotates the country names for better readability, and optimizes the plot layout before displaying it."
   ]
  },
  {
   "cell_type": "code",
   "execution_count": 78,
   "id": "1b93bc5a-ba63-4e57-ab82-a6dedbfe3593",
   "metadata": {},
   "outputs": [],
   "source": [
    "# Calculate profit margin by country\n",
    "country_margin = gov_df.groupby('Country')[['Sales', 'Profit']].sum()\n",
    "country_margin['Profit_margin'] = country_margin['Profit'] / country_margin['Sales']\n",
    "country_margin = country_margin.sort_values(by='Profit_margin', ascending=False)"
   ]
  },
  {
   "cell_type": "code",
   "execution_count": 80,
   "id": "0b3fcd05-51bf-4fa6-9f11-a32dc5321470",
   "metadata": {},
   "outputs": [
    {
     "data": {
      "image/png": "[encoded data removed]",
      "text/plain": [
       "<Figure size 1200x600 with 1 Axes>"
      ]
     },
     "metadata": {},
     "output_type": "display_data"
    }
   ],
   "source": [
    "# Plot\n",
    "plt.figure(figsize=(12, 6))\n",
    "country_margin['Profit_margin'].plot(kind='bar', color='skyblue')\n",
    "plt.title('Profit Margin by Country')\n",
    "plt.ylabel('Profit Margin (Profit ÷ Sales)')\n",
    "plt.xlabel('Country')\n",
    "plt.xticks(rotation=45, ha='right')\n",
    "plt.tight_layout()\n",
    "plt.show()"
   ]
  },
  {
   "cell_type": "markdown",
   "id": "09208378-ac47-49d4-b3be-231f0a6103c7",
   "metadata": {},
   "source": [
    "The bar chart \"Profit Margin by Country\" offers several key insights into the efficiency of operations in different countries:\n",
    "\n",
    "Germany Leads in Profit Margin: Surprisingly, Germany has the highest profit margin among the listed countries, at approximately 15.7%. This contrasts with previous charts where Germany showed negative absolute profit. This indicates that while Germany might have lower sales volumes or specific high costs that lead to overall losses, the percentage of profit generated from each sale is relatively high. This suggests good cost control or effective pricing strategies at a per-unit level.\n",
    "\n",
    "France and Canada Follow Closely: France and Canada have very similar and strong profit margins, just slightly below Germany's, around 15.5% and 14.2% respectively.\n",
    "\n",
    "Mexico and United States of America Have Lower Margins: Mexico and the United States of America have the lowest profit margins among the group, around 13.8% and 12.0% respectively.\n",
    "\n",
    "Contrasting Insights with Absolute Profit/Sales: This chart provides a crucial proportional view that might contradict conclusions drawn from absolute sales or profit figures alone. For example, while the United States might have the highest total sales (as seen in earlier charts), its profit margin is the lowest. This implies that while the volume of business is high, the efficiency of converting sales into profit is comparatively lower than in other countries.\n",
    "\n",
    "Efficiency vs. Volume: The chart highlights the difference between sales volume and operational efficiency. Countries like Germany, despite potential issues with overall sales volume or specific high costs leading to negative absolute profit (as seen in a previous chart), demonstrate strong efficiency in converting revenue into profit. Conversely, high-volume countries like the USA might need to scrutinize their cost structures or pricing strategies to improve their profit margins."
   ]
  },
  {
   "cell_type": "markdown",
   "id": "b3c96196-7b00-48db-9b01-8e89fda5fa76",
   "metadata": {},
   "source": [
    "**Average Discount Calculation and Preparation:** The first part of the code groups the data (from gov_df) by the 'Segment' column. For each customer segment, it calculates the mean (average) of the 'Discounts' given. This provides an understanding of how much discount is typically offered to each type of customer. The results are then sorted in descending order, so the segments with the highest average discounts appear first.\n",
    "\n",
    "**Bar Chart Generation:** The second part of the code takes these calculated and sorted average discounts and generates a bar chart. A bar chart is suitable for comparing these average values across different segments. It sets the size of the plot, gives it a descriptive title (\"Average Discount by Segment\"), labels the y-axis as 'Average Discount', and then ensures the layout is tight before displaying the chart."
   ]
  },
  {
   "cell_type": "code",
   "execution_count": 84,
   "id": "b31dec92-cbdb-4d89-b391-63695eb35279",
   "metadata": {},
   "outputs": [
    {
     "data": {
      "image/png": "[encoded data removed]",
      "text/plain": [
       "<Figure size 800x500 with 1 Axes>"
      ]
     },
     "metadata": {},
     "output_type": "display_data"
    }
   ],
   "source": [
    "avg_discount = gov_df.groupby('Segment')['Discounts'].mean().sort_values(ascending=False)\n",
    "\n",
    "avg_discount.plot(kind='bar', figsize=(8, 5), color='orange')\n",
    "plt.title('Average Discount by Segment')\n",
    "plt.ylabel('Average Discount')\n",
    "plt.tight_layout()\n",
    "plt.show()"
   ]
  },
  {
   "cell_type": "markdown",
   "id": "92059f6f-0555-4170-9d34-933b8539d2f8",
   "metadata": {},
   "source": [
    "The bar chart \"Average Discount by Segment\" provides clear insights into the discounting strategies applied to different customer groups:\n",
    "\n",
    "Small Business Receives the Highest Average Discount: The \"small business\" segment receives by far the highest average discount, at approximately $35,000. This is significantly higher than any other segment. This could be a deliberate strategy to attract or retain small business clients, or it might indicate larger deal sizes for this segment with associated larger discounts.\n",
    "\n",
    "Enterprise and Government Discounts are Moderate: \"Enterprise\" and \"government\" segments receive moderate average discounts, around $14,500 and $13,000 respectively. While substantial, they are much lower than those offered to small businesses.\n",
    "\n",
    "Midmarket and Channel Partners Receive Minimal Discounts: The \"midmarket\" and \"channel partners\" segments receive very low average discounts, with \"midmarket\" around $2,000 and \"channel partners\" even lower, under $1,000. This suggests that discounts are not a primary sales driver for these segments, or perhaps these segments involve smaller transactions where large discounts are less feasible.\n",
    "\n",
    "Targeted Discounting Strategy: The stark differences in average discounts suggest a highly targeted discounting strategy. The company is willing to offer significant discounts to \"small business\" clients, possibly to secure their business in a competitive market or due to the nature of the deals.\n",
    "\n",
    "Impact on Profitability: While not directly shown, higher average discounts (especially for \"small business\") could impact the overall profit margin from those segments. It would be valuable to cross-reference this with profit data by segment to understand if these high discounts are justified by increased volume or if they are eroding profitability."
   ]
  }
 ],
 "metadata": {
  "kernelspec": {
   "display_name": "Python [conda env:base] *",
   "language": "python",
   "name": "conda-base-py"
  },
  "language_info": {
   "codemirror_mode": {
    "name": "ipython",
    "version": 3
   },
   "file_extension": ".py",
   "mimetype": "text/x-python",
   "name": "python",
   "nbconvert_exporter": "python",
   "pygments_lexer": "ipython3",
   "version": "3.12.7"
  }
 },
 "nbformat": 4,
 "nbformat_minor": 5
}
